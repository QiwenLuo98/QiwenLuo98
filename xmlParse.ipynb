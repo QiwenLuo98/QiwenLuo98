{
 "cells": [
  {
   "cell_type": "code",
   "execution_count": 1,
   "metadata": {},
   "outputs": [],
   "source": [
    "import csv\n",
    "import requests\n",
    "import xml.etree.ElementTree as ET"
   ]
  },
  {
   "cell_type": "code",
   "execution_count": 2,
   "metadata": {},
   "outputs": [],
   "source": [
    "def parseXML(xmlfile):\n",
    "    tree = ET.parse(xmlfile)\n",
    "    root = tree.getroot()\n",
    "    newsitems = []\n",
    "        \n",
    "    for drug in root.findall('{http://www.drugbank.ca}drug'):\n",
    "        news = {}\n",
    "        for drugAttri in drug:\n",
    "            if drugAttri.tag == '{http://www.drugbank.ca}drugbank-id' and drugAttri.get('primary', default = False):\n",
    "                news['drug id'] = drugAttri.text\n",
    "            elif drugAttri.tag == '{http://www.drugbank.ca}name':\n",
    "                news['name'] = drugAttri.text\n",
    "            elif drugAttri.tag == '{http://www.drugbank.ca}calculated-properties':\n",
    "                for drugProperty in drugAttri.findall('{http://www.drugbank.ca}property'):\n",
    "                    find = False\n",
    "                    for drugKind in drugProperty.findall('{http://www.drugbank.ca}kind'):\n",
    "                        if drugKind.text == 'SMILES':\n",
    "                            find = True\n",
    "                    if find == True:\n",
    "                        for drugValue in drugProperty.findall('{http://www.drugbank.ca}value'):\n",
    "                            news['smiles'] = drugValue.text\n",
    "        newsitems.append(news)\n",
    "    return newsitems"
   ]
  },
  {
   "cell_type": "code",
   "execution_count": 3,
   "metadata": {},
   "outputs": [],
   "source": [
    "def savetoCSV(newsitems, filename):\n",
    "    fields = ['drug id', 'name', 'smiles']\n",
    "    \n",
    "    with open(filename, 'w') as csvfile:\n",
    "        writer = csv.DictWriter(csvfile, fieldnames = fields)\n",
    "        writer.writeheader()\n",
    "        writer.writerows(newsitems)"
   ]
  },
  {
   "cell_type": "code",
   "execution_count": 4,
   "metadata": {},
   "outputs": [],
   "source": [
    "def main():\n",
    "    newsitems = parseXML('drugbank.xml')\n",
    "    savetoCSV(newsitems, 'output.csv')\n",
    "\n",
    "if __name__ == \"__main__\":\n",
    "    main()"
   ]
  },
  {
   "cell_type": "code",
   "execution_count": null,
   "metadata": {},
   "outputs": [],
   "source": []
  },
  {
   "cell_type": "code",
   "execution_count": null,
   "metadata": {},
   "outputs": [],
   "source": []
  },
  {
   "cell_type": "code",
   "execution_count": null,
   "metadata": {},
   "outputs": [],
   "source": []
  },
  {
   "cell_type": "code",
   "execution_count": null,
   "metadata": {},
   "outputs": [],
   "source": []
  }
 ],
 "metadata": {
  "kernelspec": {
   "display_name": "Python 3",
   "language": "python",
   "name": "python3"
  },
  "language_info": {
   "codemirror_mode": {
    "name": "ipython",
    "version": 3
   },
   "file_extension": ".py",
   "mimetype": "text/x-python",
   "name": "python",
   "nbconvert_exporter": "python",
   "pygments_lexer": "ipython3",
   "version": "3.7.3"
  }
 },
 "nbformat": 4,
 "nbformat_minor": 2
}
